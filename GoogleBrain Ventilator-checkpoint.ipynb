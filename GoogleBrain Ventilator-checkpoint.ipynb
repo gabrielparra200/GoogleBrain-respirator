{
 "cells": [
  {
   "cell_type": "markdown",
   "id": "8ad949ec",
   "metadata": {},
   "source": [
    "# GoogleBrain - Ventilator pressure Kaggle competition"
   ]
  },
  {
   "cell_type": "markdown",
   "id": "270f42d9",
   "metadata": {},
   "source": [
    "## importing necessary modules"
   ]
  },
  {
   "cell_type": "code",
   "execution_count": 1,
   "id": "7ee60876",
   "metadata": {},
   "outputs": [],
   "source": [
    "import pandas as pd\n",
    "import numpy as np\n",
    "import matplotlib.pyplot as plt"
   ]
  },
  {
   "cell_type": "code",
   "execution_count": 2,
   "id": "7506e85b",
   "metadata": {},
   "outputs": [
    {
     "name": "stdout",
     "output_type": "stream",
     "text": [
      "   id  breath_id   R   C  time_step       u_in  u_out   pressure\n",
      "0   1          1  20  50   0.000000   0.083334      0   5.837492\n",
      "1   2          1  20  50   0.033652  18.383041      0   5.907794\n",
      "2   3          1  20  50   0.067514  22.509278      0   7.876254\n",
      "3   4          1  20  50   0.101542  22.808822      0  11.742872\n",
      "4   5          1  20  50   0.135756  25.355850      0  12.234987\n"
     ]
    }
   ],
   "source": [
    "df = pd.read_csv(r'C:\\Users\\Gabriel\\Documents\\Programming\\Python\\Kaggle\\GoogleBrain - Ventilator Pressure\\train.csv')\n",
    "\n",
    "print(df.head())\n"
   ]
  },
  {
   "cell_type": "code",
   "execution_count": 3,
   "id": "660a716b",
   "metadata": {},
   "outputs": [
    {
     "name": "stdout",
     "output_type": "stream",
     "text": [
      "[     1      2      3 ... 125743 125745 125749]\n"
     ]
    }
   ],
   "source": [
    "### Number of unique timeseries\n",
    "print(df['breath_id'].unique())\n"
   ]
  },
  {
   "cell_type": "code",
   "execution_count": 4,
   "id": "f08c0adf",
   "metadata": {},
   "outputs": [
    {
     "name": "stdout",
     "output_type": "stream",
     "text": [
      "(6036000, 8)\n",
      "              id  breath_id   R   C  time_step      u_in  u_out  pressure\n",
      "6035995  6035996     125749  50  10   2.504603  1.489714      1  3.869032\n",
      "6035996  6035997     125749  50  10   2.537961  1.488497      1  3.869032\n",
      "6035997  6035998     125749  50  10   2.571408  1.558978      1  3.798729\n",
      "6035998  6035999     125749  50  10   2.604744  1.272663      1  4.079938\n",
      "6035999  6036000     125749  50  10   2.638017  1.482739      1  3.869032\n"
     ]
    }
   ],
   "source": [
    "### Total number of info\n",
    "print(df.shape)\n",
    "\n",
    "print(df.tail())"
   ]
  },
  {
   "cell_type": "code",
   "execution_count": 5,
   "id": "9857d223",
   "metadata": {},
   "outputs": [
    {
     "name": "stdout",
     "output_type": "stream",
     "text": [
      "   id  breath_id   R   C  time_step       u_in  u_out   pressure  counter\n",
      "0   1          1  20  50   0.000000   0.083334      0   5.837492        1\n",
      "1   2          1  20  50   0.033652  18.383041      0   5.907794        1\n",
      "2   3          1  20  50   0.067514  22.509278      0   7.876254        1\n",
      "3   4          1  20  50   0.101542  22.808822      0  11.742872        1\n",
      "4   5          1  20  50   0.135756  25.355850      0  12.234987        1\n",
      "           counter\n",
      "breath_id         \n",
      "1               80\n",
      "2               80\n",
      "3               80\n",
      "4               80\n",
      "5               80\n",
      "...            ...\n",
      "125740          80\n",
      "125742          80\n",
      "125743          80\n",
      "125745          80\n",
      "125749          80\n",
      "\n",
      "[75450 rows x 1 columns]\n",
      "   id  breath_id   R   C  time_step       u_in  u_out   pressure\n",
      "0   1          1  20  50   0.000000   0.083334      0   5.837492\n",
      "1   2          1  20  50   0.033652  18.383041      0   5.907794\n",
      "2   3          1  20  50   0.067514  22.509278      0   7.876254\n",
      "3   4          1  20  50   0.101542  22.808822      0  11.742872\n",
      "4   5          1  20  50   0.135756  25.355850      0  12.234987\n"
     ]
    }
   ],
   "source": [
    "df['counter'] = 1\n",
    "\n",
    "print(df.head())\n",
    "\n",
    "print(df.groupby(by='breath_id').agg({'counter' : sum}))\n",
    "\n",
    "df.drop('counter', axis=1, inplace=True)\n",
    "\n",
    "print(df.head())"
   ]
  },
  {
   "cell_type": "code",
   "execution_count": 6,
   "id": "8f2445e6",
   "metadata": {},
   "outputs": [],
   "source": [
    "import seaborn as sns"
   ]
  },
  {
   "cell_type": "code",
   "execution_count": 7,
   "id": "3c965a21",
   "metadata": {},
   "outputs": [
    {
     "data": {
      "image/png": "[encoded data removed]",
      "text/plain": [
       "<Figure size 432x288 with 1 Axes>"
      ]
     },
     "metadata": {
      "needs_background": "light"
     },
     "output_type": "display_data"
    }
   ],
   "source": [
    "## Understading distribution of R and C\n",
    "sns.histplot(data=df, x='R')\n",
    "plt.show()"
   ]
  },
  {
   "cell_type": "markdown",
   "id": "546b6032",
   "metadata": {},
   "source": [
    "## Investigating breath id number 1 "
   ]
  },
  {
   "cell_type": "code",
   "execution_count": 8,
   "id": "9f431a4f",
   "metadata": {},
   "outputs": [
    {
     "name": "stdout",
     "output_type": "stream",
     "text": [
      "   id  breath_id   R   C  time_step       u_in  u_out   pressure\n",
      "0   1          1  20  50   0.000000   0.083334      0   5.837492\n",
      "1   2          1  20  50   0.033652  18.383041      0   5.907794\n",
      "2   3          1  20  50   0.067514  22.509278      0   7.876254\n",
      "3   4          1  20  50   0.101542  22.808822      0  11.742872\n",
      "4   5          1  20  50   0.135756  25.355850      0  12.234987\n",
      "This is how many columns and features the first section has (80, 8)\n"
     ]
    }
   ],
   "source": [
    "df_1 = df[df['breath_id'] == 1]\n",
    "print(df_1.head())\n",
    "print('This is how many columns and features the first section has', df_1.shape)"
   ]
  },
  {
   "cell_type": "code",
   "execution_count": 9,
   "id": "ebd92bae",
   "metadata": {},
   "outputs": [
    {
     "name": "stdout",
     "output_type": "stream",
     "text": [
      "{int64: ['id', 'breath_id', 'R', 'C', 'u_out'], float64: ['time_step', 'u_in', 'pressure']}\n"
     ]
    }
   ],
   "source": [
    "print(df_1.columns.to_series().groupby(df_1.dtypes).groups)"
   ]
  },
  {
   "cell_type": "code",
   "execution_count": 10,
   "id": "713327a5",
   "metadata": {},
   "outputs": [
    {
     "data": {
      "image/png": "[encoded data removed]",
      "text/plain": [
       "<Figure size 432x288 with 1 Axes>"
      ]
     },
     "metadata": {
      "needs_background": "light"
     },
     "output_type": "display_data"
    }
   ],
   "source": [
    "sns.lineplot(x=df_1['time_step'], y=df_1['pressure'],hue=df_1['u_out'])\n",
    "plt.show()"
   ]
  },
  {
   "cell_type": "code",
   "execution_count": 31,
   "id": "e82ea67b",
   "metadata": {},
   "outputs": [
    {
     "name": "stdout",
     "output_type": "stream",
     "text": [
      "    id  breath_id   R   C  time_step       u_in  u_out   pressure\n",
      "80  81          2  20  20   0.000000  12.184338      0   6.048398\n",
      "81  82          2  20  20   0.033998  13.980205      0   7.524743\n",
      "82  83          2  20  20   0.068151  12.574163      0   9.282297\n",
      "83  84          2  20  20   0.102062  11.730537      0  10.336829\n",
      "84  85          2  20  20   0.135917  12.124229      0   9.844714\n"
     ]
    },
    {
     "data": {
      "image/png": "[encoded data removed]",
      "text/plain": [
       "<Figure size 432x288 with 1 Axes>"
      ]
     },
     "metadata": {
      "needs_background": "light"
     },
     "output_type": "display_data"
    }
   ],
   "source": [
    "df_2 = df[df['breath_id'] == 2]\n",
    "print(df_2.head())\n",
    "\n",
    "sns.lineplot(x=df_2['time_step'], y=df_2['pressure'],hue=df_2['u_out'])\n",
    "plt.show()"
   ]
  },
  {
   "cell_type": "markdown",
   "id": "7d7e6a3d",
   "metadata": {},
   "source": [
    "## Trying regression without feature engineering first "
   ]
  },
  {
   "cell_type": "code",
   "execution_count": 12,
   "id": "993465c8",
   "metadata": {},
   "outputs": [],
   "source": [
    "from sklearn.pipeline import Pipeline\n",
    "import xgboost as xgb\n",
    "from sklearn.tree import DecisionTreeClassifier\n",
    "from sklearn.model_selection import TimeSeriesSplit\n",
    "from sklearn.model_selection import GridSearchCV\n",
    "from sklearn.model_selection import cross_val_score"
   ]
  },
  {
   "cell_type": "code",
   "execution_count": 13,
   "id": "a60fc1f5",
   "metadata": {},
   "outputs": [
    {
     "name": "stdout",
     "output_type": "stream",
     "text": [
      "    R   C  time_step       u_in  u_out\n",
      "0  20  50   0.000000   0.083334      0\n",
      "1  20  50   0.033652  18.383041      0\n",
      "2  20  50   0.067514  22.509278      0\n",
      "3  20  50   0.101542  22.808822      0\n",
      "4  20  50   0.135756  25.355850      0\n",
      "0     5.837492\n",
      "1     5.907794\n",
      "2     7.876254\n",
      "3    11.742872\n",
      "4    12.234987\n",
      "Name: pressure, dtype: float64\n"
     ]
    }
   ],
   "source": [
    "X= df.iloc[:,2:-1]\n",
    "\n",
    "y=df.iloc[:,-1]\n",
    "\n",
    "\n",
    "print(X.head())\n",
    "\n",
    "print(y.head())"
   ]
  },
  {
   "cell_type": "code",
   "execution_count": 14,
   "id": "07ac26f7",
   "metadata": {},
   "outputs": [
    {
     "name": "stdout",
     "output_type": "stream",
     "text": [
      "    R   C  time_step       u_in  u_out\n",
      "0  20  50   0.000000   0.083334      0\n",
      "1  20  50   0.033652  18.383041      0\n",
      "2  20  50   0.067514  22.509278      0\n",
      "3  20  50   0.101542  22.808822      0\n",
      "4  20  50   0.135756  25.355850      0 (4225200, 5)\n",
      "0     5.837492\n",
      "1     5.907794\n",
      "2     7.876254\n",
      "3    11.742872\n",
      "4    12.234987\n",
      "Name: pressure, dtype: float64 (4225200,)\n",
      "          R   C  time_step      u_in  u_out\n",
      "4225200  50  10   0.000000  1.284669      0\n",
      "4225201  50  10   0.034140  2.251566      0\n",
      "4225202  50  10   0.067535  3.111719      0\n",
      "4225203  50  10   0.101922  3.895200      0\n",
      "4225204  50  10   0.135374  4.534648      0 (1810800, 5)\n",
      "4225200    3.587823\n",
      "4225201    3.587823\n",
      "4225202    4.009636\n",
      "4225203    4.712657\n",
      "4225204    5.907794\n",
      "Name: pressure, dtype: float64 (1810800,)\n"
     ]
    }
   ],
   "source": [
    "### The training  dataframe has a total of 75450 individual timeseries, 70% of that is the training with 52815 timeseries,\n",
    "### so the multiplying by 80 which is th number of readings per unique ID, we can cut the dataframe into training and test\n",
    "\n",
    "X_train  = X.iloc[:4225200,]\n",
    "\n",
    "y_train = y.iloc[:4225200,]\n",
    "\n",
    "print(X_train.head(), X_train.shape)\n",
    "\n",
    "print(y_train.head(), y_train.shape)\n",
    "\n",
    "X_test =  X.iloc[4225200:,]\n",
    "\n",
    "y_test = y.iloc[4225200:,]\n",
    "\n",
    "print(X_test.head(), X_test.shape)\n",
    "\n",
    "print(y_test.head(), y_test.shape)"
   ]
  },
  {
   "cell_type": "code",
   "execution_count": 15,
   "id": "6fc2c268",
   "metadata": {},
   "outputs": [
    {
     "data": {
      "text/plain": [
       "XGBRegressor(base_score=0.5, booster='gbtree', colsample_bylevel=1,\n",
       "             colsample_bynode=1, colsample_bytree=1, gamma=0, gpu_id=-1,\n",
       "             importance_type='gain', interaction_constraints='',\n",
       "             learning_rate=0.300000012, max_delta_step=0, max_depth=6,\n",
       "             min_child_weight=1, missing=nan, monotone_constraints='()',\n",
       "             n_estimators=100, n_jobs=4, num_parallel_tree=1, random_state=0,\n",
       "             reg_alpha=0, reg_lambda=1, scale_pos_weight=1, subsample=1,\n",
       "             tree_method='approx', validate_parameters=1, verbosity=None)"
      ]
     },
     "execution_count": 15,
     "metadata": {},
     "output_type": "execute_result"
    }
   ],
   "source": [
    "model1 = xgb.XGBRegressor(n_estimators=100, objective='reg:squarederror')\n",
    "\n",
    "model1.fit(X_train, y_train, verbose=True)"
   ]
  },
  {
   "cell_type": "code",
   "execution_count": 16,
   "id": "e0c32b53",
   "metadata": {},
   "outputs": [
    {
     "name": "stdout",
     "output_type": "stream",
     "text": [
      "0.7386273254342077\n"
     ]
    }
   ],
   "source": [
    "print(model1.score(X_test, y_test))"
   ]
  },
  {
   "cell_type": "code",
   "execution_count": 27,
   "id": "96669032",
   "metadata": {},
   "outputs": [
    {
     "name": "stdout",
     "output_type": "stream",
     "text": [
      "MAE: 2.123409\n"
     ]
    }
   ],
   "source": [
    "preds = model1.predict(X_test)\n",
    "\n",
    "from sklearn.metrics import mean_absolute_error\n",
    "\n",
    "rmse = mean_absolute_error(preds, y_test)\n",
    "print(\"MAE: %f\" % (rmse))"
   ]
  },
  {
   "cell_type": "code",
   "execution_count": 18,
   "id": "e1b0c0a4",
   "metadata": {},
   "outputs": [],
   "source": [
    "#cross_val_scores = cross_val_score(model1, X, y, cv=10, scoring=\"neg_mean_squared_error\", verbose=True)\n",
    "\n",
    "\n",
    "#print(\"10-fold RMSE: \", np.mean(np.sqrt(np.abs(cross_val_scores))))"
   ]
  },
  {
   "cell_type": "markdown",
   "id": "6cf0204e",
   "metadata": {},
   "source": [
    "## First predictions "
   ]
  },
  {
   "cell_type": "code",
   "execution_count": 19,
   "id": "102038e2",
   "metadata": {},
   "outputs": [
    {
     "name": "stdout",
     "output_type": "stream",
     "text": [
      "   R   C  time_step       u_in  u_out\n",
      "0  5  20   0.000000   0.000000      0\n",
      "1  5  20   0.031904   7.515046      0\n",
      "2  5  20   0.063827  14.651675      0\n",
      "3  5  20   0.095751  21.230610      0\n",
      "4  5  20   0.127644  26.320956      0\n",
      "(4024000, 2)\n"
     ]
    }
   ],
   "source": [
    "df_test = pd.read_csv(r'C:\\Users\\Gabriel\\Documents\\Programming\\Python\\Kaggle\\GoogleBrain - Ventilator Pressure\\test.csv')\n",
    "\n",
    "X_t= df_test.iloc[:,2:]\n",
    "\n",
    "print(X_t.head())\n",
    "\n",
    "\n",
    "\n",
    "final_pred = model1.predict(X_t)\n",
    "\n",
    "\n",
    "output = pd.DataFrame({'id': df_test['id'],\n",
    "                       'pressure': final_pred.squeeze()})\n",
    "\n",
    "print(output.shape)\n"
   ]
  },
  {
   "cell_type": "code",
   "execution_count": 21,
   "id": "9066be9f",
   "metadata": {},
   "outputs": [],
   "source": [
    "output_filename = \"googlebraintest_prediction_output2.csv\"\n",
    "output.to_csv(output_filename, index=False)"
   ]
  },
  {
   "cell_type": "code",
   "execution_count": null,
   "id": "a53efc7b",
   "metadata": {},
   "outputs": [],
   "source": []
  }
 ],
 "metadata": {
  "kernelspec": {
   "display_name": "Python 3",
   "language": "python",
   "name": "python3"
  },
  "language_info": {
   "codemirror_mode": {
    "name": "ipython",
    "version": 3
   },
   "file_extension": ".py",
   "mimetype": "text/x-python",
   "name": "python",
   "nbconvert_exporter": "python",
   "pygments_lexer": "ipython3",
   "version": "3.9.1"
  }
 },
 "nbformat": 4,
 "nbformat_minor": 5
}
